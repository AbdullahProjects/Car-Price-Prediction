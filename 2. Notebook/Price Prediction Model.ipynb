{
 "cells": [
  {
   "cell_type": "markdown",
   "id": "001b1175",
   "metadata": {},
   "source": [
    "# Car Price Prediction Model Building\n",
    "\n",
    "In this notebook, I build a powerful price prediction model using Random Forest Regressor and other techniques, who ables to predict closest prices of cars on unseen data. Outline:\n",
    "\n",
    "- Dataset Overview:\n",
    "- Data Preprocessing:\n",
    "- Data Binning:\n",
    "- Model Building:"
   ]
  },
  {
   "cell_type": "code",
   "execution_count": 132,
   "id": "a93c9f26",
   "metadata": {},
   "outputs": [],
   "source": [
    "import pandas as pd\n",
    "import numpy as np"
   ]
  },
  {
   "cell_type": "code",
   "execution_count": 133,
   "id": "9b6247e6",
   "metadata": {},
   "outputs": [],
   "source": [
    "df = pd.read_csv(\"../Dataset/OLX_cars_dataset00.csv\")"
   ]
  },
  {
   "cell_type": "markdown",
   "id": "fe64c29e",
   "metadata": {},
   "source": [
    "## Dataset Overview"
   ]
  },
  {
   "cell_type": "code",
   "execution_count": 134,
   "id": "8dd42e18",
   "metadata": {},
   "outputs": [
    {
     "data": {
      "text/html": [
       "<div>\n",
       "<style scoped>\n",
       "    .dataframe tbody tr th:only-of-type {\n",
       "        vertical-align: middle;\n",
       "    }\n",
       "\n",
       "    .dataframe tbody tr th {\n",
       "        vertical-align: top;\n",
       "    }\n",
       "\n",
       "    .dataframe thead th {\n",
       "        text-align: right;\n",
       "    }\n",
       "</style>\n",
       "<table border=\"1\" class=\"dataframe\">\n",
       "  <thead>\n",
       "    <tr style=\"text-align: right;\">\n",
       "      <th></th>\n",
       "      <th>Ad ID</th>\n",
       "      <th>Car Name</th>\n",
       "      <th>Make</th>\n",
       "      <th>Model</th>\n",
       "      <th>Year</th>\n",
       "      <th>KM's driven</th>\n",
       "      <th>Price</th>\n",
       "      <th>Fuel</th>\n",
       "      <th>Registration city</th>\n",
       "      <th>Car documents</th>\n",
       "      <th>Assembly</th>\n",
       "      <th>Transmission</th>\n",
       "      <th>Condition</th>\n",
       "      <th>Seller Location</th>\n",
       "      <th>Description</th>\n",
       "      <th>Car Features</th>\n",
       "      <th>Images URL's</th>\n",
       "      <th>Car Profile</th>\n",
       "    </tr>\n",
       "  </thead>\n",
       "  <tbody>\n",
       "    <tr>\n",
       "      <th>0</th>\n",
       "      <td>1079071571</td>\n",
       "      <td>fresh import Passo 2021model</td>\n",
       "      <td>Toyota</td>\n",
       "      <td>Passo</td>\n",
       "      <td>2021</td>\n",
       "      <td>54000</td>\n",
       "      <td>4190000</td>\n",
       "      <td>Petrol</td>\n",
       "      <td>Unregistered</td>\n",
       "      <td>Original</td>\n",
       "      <td>Imported</td>\n",
       "      <td>Automatic</td>\n",
       "      <td>Used</td>\n",
       "      <td>Airline Avenue, Islamabad</td>\n",
       "      <td>it's 2021 model fresh import, perfect engine s...</td>\n",
       "      <td>ABS, Air Bags, AM/FM Radio, CD Player, Cassett...</td>\n",
       "      <td>['https://images.olx.com.pk/thumbnails/4039460...</td>\n",
       "      <td>https://www.olx.com.pk/item/fresh-import-passo...</td>\n",
       "    </tr>\n",
       "    <tr>\n",
       "      <th>1</th>\n",
       "      <td>1080125520</td>\n",
       "      <td>Suzuki ravi</td>\n",
       "      <td>Suzuki</td>\n",
       "      <td>Ravi</td>\n",
       "      <td>2018</td>\n",
       "      <td>95000</td>\n",
       "      <td>1300000</td>\n",
       "      <td>Petrol</td>\n",
       "      <td>Karachi</td>\n",
       "      <td>Original</td>\n",
       "      <td>Local</td>\n",
       "      <td>Manual</td>\n",
       "      <td>Used</td>\n",
       "      <td>Kahuta, Rawalpindi</td>\n",
       "      <td>Suzuki ravi 2018 col</td>\n",
       "      <td>AM/FM Radio</td>\n",
       "      <td>['https://images.olx.com.pk/thumbnails/4102504...</td>\n",
       "      <td>https://www.olx.com.pk/item/suzuki-ravi-iid-10...</td>\n",
       "    </tr>\n",
       "  </tbody>\n",
       "</table>\n",
       "</div>"
      ],
      "text/plain": [
       "        Ad ID                      Car Name    Make  Model  Year  KM's driven  \\\n",
       "0  1079071571  fresh import Passo 2021model  Toyota  Passo  2021        54000   \n",
       "1  1080125520                   Suzuki ravi  Suzuki   Ravi  2018        95000   \n",
       "\n",
       "     Price    Fuel Registration city Car documents  Assembly Transmission  \\\n",
       "0  4190000  Petrol      Unregistered      Original  Imported    Automatic   \n",
       "1  1300000  Petrol           Karachi      Original     Local       Manual   \n",
       "\n",
       "  Condition            Seller Location  \\\n",
       "0      Used  Airline Avenue, Islamabad   \n",
       "1      Used         Kahuta, Rawalpindi   \n",
       "\n",
       "                                         Description  \\\n",
       "0  it's 2021 model fresh import, perfect engine s...   \n",
       "1                              Suzuki ravi 2018 col    \n",
       "\n",
       "                                        Car Features  \\\n",
       "0  ABS, Air Bags, AM/FM Radio, CD Player, Cassett...   \n",
       "1                                        AM/FM Radio   \n",
       "\n",
       "                                        Images URL's  \\\n",
       "0  ['https://images.olx.com.pk/thumbnails/4039460...   \n",
       "1  ['https://images.olx.com.pk/thumbnails/4102504...   \n",
       "\n",
       "                                         Car Profile  \n",
       "0  https://www.olx.com.pk/item/fresh-import-passo...  \n",
       "1  https://www.olx.com.pk/item/suzuki-ravi-iid-10...  "
      ]
     },
     "execution_count": 134,
     "metadata": {},
     "output_type": "execute_result"
    }
   ],
   "source": [
    "df.head(2)"
   ]
  },
  {
   "cell_type": "markdown",
   "id": "43a71fc0",
   "metadata": {},
   "source": [
    "#### 1. Number of Rows, Columns"
   ]
  },
  {
   "cell_type": "code",
   "execution_count": 135,
   "id": "d914ba6e",
   "metadata": {},
   "outputs": [
    {
     "name": "stdout",
     "output_type": "stream",
     "text": [
      "Number of Rows: 9179\n",
      "Number of Columns: 18\n"
     ]
    }
   ],
   "source": [
    "rows, columns = df.shape\n",
    "print(f\"Number of Rows: {rows}\")\n",
    "print(f\"Number of Columns: {columns}\")"
   ]
  },
  {
   "cell_type": "markdown",
   "id": "58e8dc69",
   "metadata": {},
   "source": [
    "#### 2. Non-null values and Data Types"
   ]
  },
  {
   "cell_type": "code",
   "execution_count": 136,
   "id": "41042413",
   "metadata": {},
   "outputs": [
    {
     "name": "stdout",
     "output_type": "stream",
     "text": [
      "<class 'pandas.core.frame.DataFrame'>\n",
      "RangeIndex: 9179 entries, 0 to 9178\n",
      "Data columns (total 18 columns):\n",
      " #   Column             Non-Null Count  Dtype \n",
      "---  ------             --------------  ----- \n",
      " 0   Ad ID              9179 non-null   int64 \n",
      " 1   Car Name           9179 non-null   object\n",
      " 2   Make               9179 non-null   object\n",
      " 3   Model              9179 non-null   object\n",
      " 4   Year               9179 non-null   int64 \n",
      " 5   KM's driven        9179 non-null   int64 \n",
      " 6   Price              9179 non-null   int64 \n",
      " 7   Fuel               9179 non-null   object\n",
      " 8   Registration city  9179 non-null   object\n",
      " 9   Car documents      9179 non-null   object\n",
      " 10  Assembly           9179 non-null   object\n",
      " 11  Transmission       9179 non-null   object\n",
      " 12  Condition          9179 non-null   object\n",
      " 13  Seller Location    9179 non-null   object\n",
      " 14  Description        9179 non-null   object\n",
      " 15  Car Features       9179 non-null   object\n",
      " 16  Images URL's       9179 non-null   object\n",
      " 17  Car Profile        8721 non-null   object\n",
      "dtypes: int64(4), object(14)\n",
      "memory usage: 1.3+ MB\n"
     ]
    }
   ],
   "source": [
    "df.info()"
   ]
  },
  {
   "cell_type": "markdown",
   "id": "d6a41fce",
   "metadata": {},
   "source": [
    "#### 3. Dataset Statistics"
   ]
  },
  {
   "cell_type": "code",
   "execution_count": 137,
   "id": "780cd018",
   "metadata": {},
   "outputs": [
    {
     "data": {
      "text/html": [
       "<div>\n",
       "<style scoped>\n",
       "    .dataframe tbody tr th:only-of-type {\n",
       "        vertical-align: middle;\n",
       "    }\n",
       "\n",
       "    .dataframe tbody tr th {\n",
       "        vertical-align: top;\n",
       "    }\n",
       "\n",
       "    .dataframe thead th {\n",
       "        text-align: right;\n",
       "    }\n",
       "</style>\n",
       "<table border=\"1\" class=\"dataframe\">\n",
       "  <thead>\n",
       "    <tr style=\"text-align: right;\">\n",
       "      <th></th>\n",
       "      <th>count</th>\n",
       "      <th>mean</th>\n",
       "      <th>std</th>\n",
       "      <th>min</th>\n",
       "      <th>25%</th>\n",
       "      <th>50%</th>\n",
       "      <th>75%</th>\n",
       "      <th>max</th>\n",
       "    </tr>\n",
       "  </thead>\n",
       "  <tbody>\n",
       "    <tr>\n",
       "      <th>Ad ID</th>\n",
       "      <td>9179.0</td>\n",
       "      <td>1.079720e+09</td>\n",
       "      <td>2.848393e+06</td>\n",
       "      <td>1.019824e+09</td>\n",
       "      <td>1.080003e+09</td>\n",
       "      <td>1.080543e+09</td>\n",
       "      <td>1.080773e+09</td>\n",
       "      <td>1.080975e+09</td>\n",
       "    </tr>\n",
       "    <tr>\n",
       "      <th>Year</th>\n",
       "      <td>9179.0</td>\n",
       "      <td>2.012269e+03</td>\n",
       "      <td>6.043902e+00</td>\n",
       "      <td>1.989000e+03</td>\n",
       "      <td>2.007000e+03</td>\n",
       "      <td>2.013000e+03</td>\n",
       "      <td>2.017000e+03</td>\n",
       "      <td>2.024000e+03</td>\n",
       "    </tr>\n",
       "    <tr>\n",
       "      <th>KM's driven</th>\n",
       "      <td>9179.0</td>\n",
       "      <td>9.657042e+04</td>\n",
       "      <td>6.198325e+04</td>\n",
       "      <td>1.000000e+00</td>\n",
       "      <td>5.300000e+04</td>\n",
       "      <td>9.200000e+04</td>\n",
       "      <td>1.250000e+05</td>\n",
       "      <td>5.335280e+05</td>\n",
       "    </tr>\n",
       "    <tr>\n",
       "      <th>Price</th>\n",
       "      <td>9179.0</td>\n",
       "      <td>2.036814e+06</td>\n",
       "      <td>1.159302e+06</td>\n",
       "      <td>1.850000e+05</td>\n",
       "      <td>1.025000e+06</td>\n",
       "      <td>1.820000e+06</td>\n",
       "      <td>2.750000e+06</td>\n",
       "      <td>5.000000e+06</td>\n",
       "    </tr>\n",
       "  </tbody>\n",
       "</table>\n",
       "</div>"
      ],
      "text/plain": [
       "              count          mean           std           min           25%  \\\n",
       "Ad ID        9179.0  1.079720e+09  2.848393e+06  1.019824e+09  1.080003e+09   \n",
       "Year         9179.0  2.012269e+03  6.043902e+00  1.989000e+03  2.007000e+03   \n",
       "KM's driven  9179.0  9.657042e+04  6.198325e+04  1.000000e+00  5.300000e+04   \n",
       "Price        9179.0  2.036814e+06  1.159302e+06  1.850000e+05  1.025000e+06   \n",
       "\n",
       "                      50%           75%           max  \n",
       "Ad ID        1.080543e+09  1.080773e+09  1.080975e+09  \n",
       "Year         2.013000e+03  2.017000e+03  2.024000e+03  \n",
       "KM's driven  9.200000e+04  1.250000e+05  5.335280e+05  \n",
       "Price        1.820000e+06  2.750000e+06  5.000000e+06  "
      ]
     },
     "execution_count": 137,
     "metadata": {},
     "output_type": "execute_result"
    }
   ],
   "source": [
    "df.describe().T"
   ]
  },
  {
   "cell_type": "markdown",
   "id": "94119d75",
   "metadata": {},
   "source": [
    "#### 4. Duplicated Rows"
   ]
  },
  {
   "cell_type": "code",
   "execution_count": 138,
   "id": "7b901c8a",
   "metadata": {},
   "outputs": [
    {
     "name": "stdout",
     "output_type": "stream",
     "text": [
      "Duplicated Rows:\n",
      "Total: 201\n"
     ]
    }
   ],
   "source": [
    "print(\"Duplicated Rows:\")\n",
    "print(f\"Total: {df.duplicated().sum()}\")"
   ]
  },
  {
   "cell_type": "markdown",
   "id": "5b834bd7",
   "metadata": {},
   "source": [
    "#### 5. Basic Info about dataset such as  Missing values, its percentages, unique values and data types of features"
   ]
  },
  {
   "cell_type": "code",
   "execution_count": 139,
   "id": "f81788a3",
   "metadata": {},
   "outputs": [
    {
     "data": {
      "text/html": [
       "<div>\n",
       "<style scoped>\n",
       "    .dataframe tbody tr th:only-of-type {\n",
       "        vertical-align: middle;\n",
       "    }\n",
       "\n",
       "    .dataframe tbody tr th {\n",
       "        vertical-align: top;\n",
       "    }\n",
       "\n",
       "    .dataframe thead th {\n",
       "        text-align: right;\n",
       "    }\n",
       "</style>\n",
       "<table border=\"1\" class=\"dataframe\">\n",
       "  <thead>\n",
       "    <tr style=\"text-align: right;\">\n",
       "      <th></th>\n",
       "      <th>Features</th>\n",
       "      <th>Missing Values</th>\n",
       "      <th>Missing Values %</th>\n",
       "      <th>Unique Values</th>\n",
       "      <th>Data Types</th>\n",
       "    </tr>\n",
       "  </thead>\n",
       "  <tbody>\n",
       "    <tr>\n",
       "      <th>0</th>\n",
       "      <td>Ad ID</td>\n",
       "      <td>0</td>\n",
       "      <td>0.000000</td>\n",
       "      <td>8976</td>\n",
       "      <td>int64</td>\n",
       "    </tr>\n",
       "    <tr>\n",
       "      <th>1</th>\n",
       "      <td>Car Name</td>\n",
       "      <td>0</td>\n",
       "      <td>0.000000</td>\n",
       "      <td>7970</td>\n",
       "      <td>object</td>\n",
       "    </tr>\n",
       "    <tr>\n",
       "      <th>2</th>\n",
       "      <td>Make</td>\n",
       "      <td>0</td>\n",
       "      <td>0.000000</td>\n",
       "      <td>11</td>\n",
       "      <td>object</td>\n",
       "    </tr>\n",
       "    <tr>\n",
       "      <th>3</th>\n",
       "      <td>Model</td>\n",
       "      <td>0</td>\n",
       "      <td>0.000000</td>\n",
       "      <td>58</td>\n",
       "      <td>object</td>\n",
       "    </tr>\n",
       "    <tr>\n",
       "      <th>4</th>\n",
       "      <td>Year</td>\n",
       "      <td>0</td>\n",
       "      <td>0.000000</td>\n",
       "      <td>27</td>\n",
       "      <td>int64</td>\n",
       "    </tr>\n",
       "    <tr>\n",
       "      <th>5</th>\n",
       "      <td>KM's driven</td>\n",
       "      <td>0</td>\n",
       "      <td>0.000000</td>\n",
       "      <td>1598</td>\n",
       "      <td>int64</td>\n",
       "    </tr>\n",
       "    <tr>\n",
       "      <th>6</th>\n",
       "      <td>Price</td>\n",
       "      <td>0</td>\n",
       "      <td>0.000000</td>\n",
       "      <td>842</td>\n",
       "      <td>int64</td>\n",
       "    </tr>\n",
       "    <tr>\n",
       "      <th>7</th>\n",
       "      <td>Fuel</td>\n",
       "      <td>0</td>\n",
       "      <td>0.000000</td>\n",
       "      <td>4</td>\n",
       "      <td>object</td>\n",
       "    </tr>\n",
       "    <tr>\n",
       "      <th>8</th>\n",
       "      <td>Registration city</td>\n",
       "      <td>0</td>\n",
       "      <td>0.000000</td>\n",
       "      <td>61</td>\n",
       "      <td>object</td>\n",
       "    </tr>\n",
       "    <tr>\n",
       "      <th>9</th>\n",
       "      <td>Car documents</td>\n",
       "      <td>0</td>\n",
       "      <td>0.000000</td>\n",
       "      <td>2</td>\n",
       "      <td>object</td>\n",
       "    </tr>\n",
       "    <tr>\n",
       "      <th>10</th>\n",
       "      <td>Assembly</td>\n",
       "      <td>0</td>\n",
       "      <td>0.000000</td>\n",
       "      <td>2</td>\n",
       "      <td>object</td>\n",
       "    </tr>\n",
       "    <tr>\n",
       "      <th>11</th>\n",
       "      <td>Transmission</td>\n",
       "      <td>0</td>\n",
       "      <td>0.000000</td>\n",
       "      <td>2</td>\n",
       "      <td>object</td>\n",
       "    </tr>\n",
       "    <tr>\n",
       "      <th>12</th>\n",
       "      <td>Condition</td>\n",
       "      <td>0</td>\n",
       "      <td>0.000000</td>\n",
       "      <td>1</td>\n",
       "      <td>object</td>\n",
       "    </tr>\n",
       "    <tr>\n",
       "      <th>13</th>\n",
       "      <td>Seller Location</td>\n",
       "      <td>0</td>\n",
       "      <td>0.000000</td>\n",
       "      <td>2768</td>\n",
       "      <td>object</td>\n",
       "    </tr>\n",
       "    <tr>\n",
       "      <th>14</th>\n",
       "      <td>Description</td>\n",
       "      <td>0</td>\n",
       "      <td>0.000000</td>\n",
       "      <td>8866</td>\n",
       "      <td>object</td>\n",
       "    </tr>\n",
       "    <tr>\n",
       "      <th>15</th>\n",
       "      <td>Car Features</td>\n",
       "      <td>0</td>\n",
       "      <td>0.000000</td>\n",
       "      <td>5978</td>\n",
       "      <td>object</td>\n",
       "    </tr>\n",
       "    <tr>\n",
       "      <th>16</th>\n",
       "      <td>Images URL's</td>\n",
       "      <td>0</td>\n",
       "      <td>0.000000</td>\n",
       "      <td>8976</td>\n",
       "      <td>object</td>\n",
       "    </tr>\n",
       "    <tr>\n",
       "      <th>17</th>\n",
       "      <td>Car Profile</td>\n",
       "      <td>458</td>\n",
       "      <td>0.049897</td>\n",
       "      <td>8524</td>\n",
       "      <td>object</td>\n",
       "    </tr>\n",
       "  </tbody>\n",
       "</table>\n",
       "</div>"
      ],
      "text/plain": [
       "             Features  Missing Values  Missing Values %  Unique Values  \\\n",
       "0               Ad ID               0          0.000000           8976   \n",
       "1            Car Name               0          0.000000           7970   \n",
       "2                Make               0          0.000000             11   \n",
       "3               Model               0          0.000000             58   \n",
       "4                Year               0          0.000000             27   \n",
       "5         KM's driven               0          0.000000           1598   \n",
       "6               Price               0          0.000000            842   \n",
       "7                Fuel               0          0.000000              4   \n",
       "8   Registration city               0          0.000000             61   \n",
       "9       Car documents               0          0.000000              2   \n",
       "10           Assembly               0          0.000000              2   \n",
       "11       Transmission               0          0.000000              2   \n",
       "12          Condition               0          0.000000              1   \n",
       "13    Seller Location               0          0.000000           2768   \n",
       "14        Description               0          0.000000           8866   \n",
       "15       Car Features               0          0.000000           5978   \n",
       "16       Images URL's               0          0.000000           8976   \n",
       "17        Car Profile             458          0.049897           8524   \n",
       "\n",
       "   Data Types  \n",
       "0       int64  \n",
       "1      object  \n",
       "2      object  \n",
       "3      object  \n",
       "4       int64  \n",
       "5       int64  \n",
       "6       int64  \n",
       "7      object  \n",
       "8      object  \n",
       "9      object  \n",
       "10     object  \n",
       "11     object  \n",
       "12     object  \n",
       "13     object  \n",
       "14     object  \n",
       "15     object  \n",
       "16     object  \n",
       "17     object  "
      ]
     },
     "execution_count": 139,
     "metadata": {},
     "output_type": "execute_result"
    }
   ],
   "source": [
    "basic_info = pd.DataFrame({\n",
    "    \"Features\": df.columns,\n",
    "    \"Missing Values\": df.isnull().sum().values,\n",
    "    \"Missing Values %\": ((df.isnull().sum().values)/len(df)),\n",
    "    \"Unique Values\": df.nunique().values,\n",
    "    \"Data Types\": df.dtypes\n",
    "})\n",
    "basic_info.reset_index(drop=True)"
   ]
  },
  {
   "cell_type": "markdown",
   "id": "8d3fe378",
   "metadata": {},
   "source": [
    "## Data Preprocessing"
   ]
  },
  {
   "cell_type": "markdown",
   "id": "761e43fd",
   "metadata": {},
   "source": [
    "#### 1. Drop duplicated rows"
   ]
  },
  {
   "cell_type": "code",
   "execution_count": 140,
   "id": "f4f5d9a1",
   "metadata": {},
   "outputs": [],
   "source": [
    "df.drop_duplicates(inplace=True)"
   ]
  },
  {
   "cell_type": "markdown",
   "id": "fef85a47",
   "metadata": {},
   "source": [
    "#### 2. Drop unnecessary features"
   ]
  },
  {
   "cell_type": "code",
   "execution_count": 141,
   "id": "c17ab1f7",
   "metadata": {},
   "outputs": [],
   "source": [
    "df.drop(columns=[\"Ad ID\",\"Car Name\",\"Condition\",\"Seller Location\",\"Registration city\",\"Description\",\"Car Features\",\"Images URL's\",\"Car Profile\"], inplace=True)"
   ]
  },
  {
   "cell_type": "code",
   "execution_count": 142,
   "id": "39ad234f",
   "metadata": {},
   "outputs": [
    {
     "data": {
      "text/plain": [
       "(8978, 9)"
      ]
     },
     "execution_count": 142,
     "metadata": {},
     "output_type": "execute_result"
    }
   ],
   "source": [
    "df.shape"
   ]
  },
  {
   "cell_type": "markdown",
   "id": "43ff5770",
   "metadata": {},
   "source": [
    "#### 3. Drop rows that are outliers"
   ]
  },
  {
   "cell_type": "code",
   "execution_count": 143,
   "id": "093fb6a7",
   "metadata": {},
   "outputs": [],
   "source": [
    "df = df[(df[\"Model\"]!=\"Civic VTi\") & (df[\"Model\"]!=\"Civic EXi\") & (df[\"Model\"]!=\"Civic VTi Oriel\") & (df[\"Model\"]!=\"Cervo\") & (df[\"Model\"]!=\"Every Wagon\") & (df[\"Model\"]!=\"Liana\") & (df[\"Model\"]!=\"Mehran VX\") & (df[\"Model\"]!=\"Khyber\") & (df[\"Model\"]!=\"Cultus VXL\") & (df[\"Model\"]!=\"Corolla Assista\") & (df[\"Model\"]!=\"Corolla Axio\") & (df[\"Model\"]!=\"Surf\") & (df[\"Model\"]!=\"Prius\") & (df[\"Model\"]!=\"ISIS\")]\n",
    "df = df[df[\"Year\"]!=2024]"
   ]
  },
  {
   "cell_type": "code",
   "execution_count": 144,
   "id": "b0b604b3",
   "metadata": {},
   "outputs": [
    {
     "data": {
      "text/html": [
       "<div>\n",
       "<style scoped>\n",
       "    .dataframe tbody tr th:only-of-type {\n",
       "        vertical-align: middle;\n",
       "    }\n",
       "\n",
       "    .dataframe tbody tr th {\n",
       "        vertical-align: top;\n",
       "    }\n",
       "\n",
       "    .dataframe thead th {\n",
       "        text-align: right;\n",
       "    }\n",
       "</style>\n",
       "<table border=\"1\" class=\"dataframe\">\n",
       "  <thead>\n",
       "    <tr style=\"text-align: right;\">\n",
       "      <th></th>\n",
       "      <th>Make</th>\n",
       "      <th>Model</th>\n",
       "      <th>Year</th>\n",
       "      <th>KM's driven</th>\n",
       "      <th>Price</th>\n",
       "      <th>Fuel</th>\n",
       "      <th>Car documents</th>\n",
       "      <th>Assembly</th>\n",
       "      <th>Transmission</th>\n",
       "    </tr>\n",
       "  </thead>\n",
       "  <tbody>\n",
       "    <tr>\n",
       "      <th>0</th>\n",
       "      <td>Toyota</td>\n",
       "      <td>Passo</td>\n",
       "      <td>2021</td>\n",
       "      <td>54000</td>\n",
       "      <td>4190000</td>\n",
       "      <td>Petrol</td>\n",
       "      <td>Original</td>\n",
       "      <td>Imported</td>\n",
       "      <td>Automatic</td>\n",
       "    </tr>\n",
       "    <tr>\n",
       "      <th>1</th>\n",
       "      <td>Suzuki</td>\n",
       "      <td>Ravi</td>\n",
       "      <td>2018</td>\n",
       "      <td>95000</td>\n",
       "      <td>1300000</td>\n",
       "      <td>Petrol</td>\n",
       "      <td>Original</td>\n",
       "      <td>Local</td>\n",
       "      <td>Manual</td>\n",
       "    </tr>\n",
       "  </tbody>\n",
       "</table>\n",
       "</div>"
      ],
      "text/plain": [
       "     Make  Model  Year  KM's driven    Price    Fuel Car documents  Assembly  \\\n",
       "0  Toyota  Passo  2021        54000  4190000  Petrol      Original  Imported   \n",
       "1  Suzuki   Ravi  2018        95000  1300000  Petrol      Original     Local   \n",
       "\n",
       "  Transmission  \n",
       "0    Automatic  \n",
       "1       Manual  "
      ]
     },
     "execution_count": 144,
     "metadata": {},
     "output_type": "execute_result"
    }
   ],
   "source": [
    "df.head(2)"
   ]
  },
  {
   "cell_type": "code",
   "execution_count": 145,
   "id": "9974e95e",
   "metadata": {},
   "outputs": [
    {
     "data": {
      "text/plain": [
       "(8960, 9)"
      ]
     },
     "execution_count": 145,
     "metadata": {},
     "output_type": "execute_result"
    }
   ],
   "source": [
    "df.shape"
   ]
  },
  {
   "cell_type": "markdown",
   "id": "2a173a6b",
   "metadata": {},
   "source": [
    "## Data Binning or Discretization"
   ]
  },
  {
   "cell_type": "code",
   "execution_count": 146,
   "id": "dd9e528c",
   "metadata": {},
   "outputs": [],
   "source": [
    "n_df = df.copy()"
   ]
  },
  {
   "cell_type": "markdown",
   "id": "1c03a436",
   "metadata": {},
   "source": [
    "#### 1. Create Bins of Year column"
   ]
  },
  {
   "cell_type": "code",
   "execution_count": 147,
   "id": "2d94f805",
   "metadata": {},
   "outputs": [
    {
     "data": {
      "text/html": [
       "<div>\n",
       "<style scoped>\n",
       "    .dataframe tbody tr th:only-of-type {\n",
       "        vertical-align: middle;\n",
       "    }\n",
       "\n",
       "    .dataframe tbody tr th {\n",
       "        vertical-align: top;\n",
       "    }\n",
       "\n",
       "    .dataframe thead th {\n",
       "        text-align: right;\n",
       "    }\n",
       "</style>\n",
       "<table border=\"1\" class=\"dataframe\">\n",
       "  <thead>\n",
       "    <tr style=\"text-align: right;\">\n",
       "      <th></th>\n",
       "      <th>Make</th>\n",
       "      <th>Model</th>\n",
       "      <th>Year</th>\n",
       "      <th>KM's driven</th>\n",
       "      <th>Price</th>\n",
       "      <th>Fuel</th>\n",
       "      <th>Car documents</th>\n",
       "      <th>Assembly</th>\n",
       "      <th>Transmission</th>\n",
       "      <th>Year_Range</th>\n",
       "    </tr>\n",
       "  </thead>\n",
       "  <tbody>\n",
       "    <tr>\n",
       "      <th>0</th>\n",
       "      <td>Toyota</td>\n",
       "      <td>Passo</td>\n",
       "      <td>2021</td>\n",
       "      <td>54000</td>\n",
       "      <td>4190000</td>\n",
       "      <td>Petrol</td>\n",
       "      <td>Original</td>\n",
       "      <td>Imported</td>\n",
       "      <td>Automatic</td>\n",
       "      <td>6</td>\n",
       "    </tr>\n",
       "    <tr>\n",
       "      <th>1</th>\n",
       "      <td>Suzuki</td>\n",
       "      <td>Ravi</td>\n",
       "      <td>2018</td>\n",
       "      <td>95000</td>\n",
       "      <td>1300000</td>\n",
       "      <td>Petrol</td>\n",
       "      <td>Original</td>\n",
       "      <td>Local</td>\n",
       "      <td>Manual</td>\n",
       "      <td>5</td>\n",
       "    </tr>\n",
       "    <tr>\n",
       "      <th>2</th>\n",
       "      <td>Suzuki</td>\n",
       "      <td>Bolan</td>\n",
       "      <td>2015</td>\n",
       "      <td>50000</td>\n",
       "      <td>800000</td>\n",
       "      <td>Petrol</td>\n",
       "      <td>Original</td>\n",
       "      <td>Local</td>\n",
       "      <td>Manual</td>\n",
       "      <td>4</td>\n",
       "    </tr>\n",
       "    <tr>\n",
       "      <th>3</th>\n",
       "      <td>Daihatsu</td>\n",
       "      <td>Move</td>\n",
       "      <td>2013</td>\n",
       "      <td>94000</td>\n",
       "      <td>2155000</td>\n",
       "      <td>Petrol</td>\n",
       "      <td>Original</td>\n",
       "      <td>Imported</td>\n",
       "      <td>Automatic</td>\n",
       "      <td>4</td>\n",
       "    </tr>\n",
       "    <tr>\n",
       "      <th>4</th>\n",
       "      <td>Suzuki</td>\n",
       "      <td>Swift</td>\n",
       "      <td>2011</td>\n",
       "      <td>126544</td>\n",
       "      <td>1440000</td>\n",
       "      <td>Petrol</td>\n",
       "      <td>Original</td>\n",
       "      <td>Local</td>\n",
       "      <td>Manual</td>\n",
       "      <td>3</td>\n",
       "    </tr>\n",
       "  </tbody>\n",
       "</table>\n",
       "</div>"
      ],
      "text/plain": [
       "       Make  Model  Year  KM's driven    Price    Fuel Car documents  \\\n",
       "0    Toyota  Passo  2021        54000  4190000  Petrol      Original   \n",
       "1    Suzuki   Ravi  2018        95000  1300000  Petrol      Original   \n",
       "2    Suzuki  Bolan  2015        50000   800000  Petrol      Original   \n",
       "3  Daihatsu   Move  2013        94000  2155000  Petrol      Original   \n",
       "4    Suzuki  Swift  2011       126544  1440000  Petrol      Original   \n",
       "\n",
       "   Assembly Transmission Year_Range  \n",
       "0  Imported    Automatic          6  \n",
       "1     Local       Manual          5  \n",
       "2     Local       Manual          4  \n",
       "3  Imported    Automatic          4  \n",
       "4     Local       Manual          3  "
      ]
     },
     "execution_count": 147,
     "metadata": {},
     "output_type": "execute_result"
    }
   ],
   "source": [
    "bins = [1999,2004,2008,2012,2016,2020,2024]\n",
    "labels = [1,2,3,4,5,6]\n",
    "n_df[\"Year_Range\"] = pd.cut(n_df[\"Year\"], bins=bins, labels=labels)\n",
    "n_df.head()"
   ]
  },
  {
   "cell_type": "markdown",
   "id": "af854af4",
   "metadata": {},
   "source": [
    "#### 2. Create Bins of KM's driven column"
   ]
  },
  {
   "cell_type": "code",
   "execution_count": 148,
   "id": "bf42a9c8",
   "metadata": {},
   "outputs": [
    {
     "data": {
      "text/html": [
       "<div>\n",
       "<style scoped>\n",
       "    .dataframe tbody tr th:only-of-type {\n",
       "        vertical-align: middle;\n",
       "    }\n",
       "\n",
       "    .dataframe tbody tr th {\n",
       "        vertical-align: top;\n",
       "    }\n",
       "\n",
       "    .dataframe thead th {\n",
       "        text-align: right;\n",
       "    }\n",
       "</style>\n",
       "<table border=\"1\" class=\"dataframe\">\n",
       "  <thead>\n",
       "    <tr style=\"text-align: right;\">\n",
       "      <th></th>\n",
       "      <th>Make</th>\n",
       "      <th>Model</th>\n",
       "      <th>Year</th>\n",
       "      <th>KM's driven</th>\n",
       "      <th>Price</th>\n",
       "      <th>Fuel</th>\n",
       "      <th>Car documents</th>\n",
       "      <th>Assembly</th>\n",
       "      <th>Transmission</th>\n",
       "      <th>Year_Range</th>\n",
       "      <th>KM's driven_Range</th>\n",
       "    </tr>\n",
       "  </thead>\n",
       "  <tbody>\n",
       "    <tr>\n",
       "      <th>0</th>\n",
       "      <td>Toyota</td>\n",
       "      <td>Passo</td>\n",
       "      <td>2021</td>\n",
       "      <td>54000</td>\n",
       "      <td>4190000</td>\n",
       "      <td>Petrol</td>\n",
       "      <td>Original</td>\n",
       "      <td>Imported</td>\n",
       "      <td>Automatic</td>\n",
       "      <td>6</td>\n",
       "      <td>2</td>\n",
       "    </tr>\n",
       "    <tr>\n",
       "      <th>1</th>\n",
       "      <td>Suzuki</td>\n",
       "      <td>Ravi</td>\n",
       "      <td>2018</td>\n",
       "      <td>95000</td>\n",
       "      <td>1300000</td>\n",
       "      <td>Petrol</td>\n",
       "      <td>Original</td>\n",
       "      <td>Local</td>\n",
       "      <td>Manual</td>\n",
       "      <td>5</td>\n",
       "      <td>4</td>\n",
       "    </tr>\n",
       "    <tr>\n",
       "      <th>2</th>\n",
       "      <td>Suzuki</td>\n",
       "      <td>Bolan</td>\n",
       "      <td>2015</td>\n",
       "      <td>50000</td>\n",
       "      <td>800000</td>\n",
       "      <td>Petrol</td>\n",
       "      <td>Original</td>\n",
       "      <td>Local</td>\n",
       "      <td>Manual</td>\n",
       "      <td>4</td>\n",
       "      <td>2</td>\n",
       "    </tr>\n",
       "    <tr>\n",
       "      <th>3</th>\n",
       "      <td>Daihatsu</td>\n",
       "      <td>Move</td>\n",
       "      <td>2013</td>\n",
       "      <td>94000</td>\n",
       "      <td>2155000</td>\n",
       "      <td>Petrol</td>\n",
       "      <td>Original</td>\n",
       "      <td>Imported</td>\n",
       "      <td>Automatic</td>\n",
       "      <td>4</td>\n",
       "      <td>4</td>\n",
       "    </tr>\n",
       "    <tr>\n",
       "      <th>4</th>\n",
       "      <td>Suzuki</td>\n",
       "      <td>Swift</td>\n",
       "      <td>2011</td>\n",
       "      <td>126544</td>\n",
       "      <td>1440000</td>\n",
       "      <td>Petrol</td>\n",
       "      <td>Original</td>\n",
       "      <td>Local</td>\n",
       "      <td>Manual</td>\n",
       "      <td>3</td>\n",
       "      <td>5</td>\n",
       "    </tr>\n",
       "  </tbody>\n",
       "</table>\n",
       "</div>"
      ],
      "text/plain": [
       "       Make  Model  Year  KM's driven    Price    Fuel Car documents  \\\n",
       "0    Toyota  Passo  2021        54000  4190000  Petrol      Original   \n",
       "1    Suzuki   Ravi  2018        95000  1300000  Petrol      Original   \n",
       "2    Suzuki  Bolan  2015        50000   800000  Petrol      Original   \n",
       "3  Daihatsu   Move  2013        94000  2155000  Petrol      Original   \n",
       "4    Suzuki  Swift  2011       126544  1440000  Petrol      Original   \n",
       "\n",
       "   Assembly Transmission Year_Range KM's driven_Range  \n",
       "0  Imported    Automatic          6                 2  \n",
       "1     Local       Manual          5                 4  \n",
       "2     Local       Manual          4                 2  \n",
       "3  Imported    Automatic          4                 4  \n",
       "4     Local       Manual          3                 5  "
      ]
     },
     "execution_count": 148,
     "metadata": {},
     "output_type": "execute_result"
    }
   ],
   "source": [
    "bins = [0,30000,60000,90000,120000,150000,180000,210000,224000,227000,300000,330000,360000,390000,410000,440000,470000,500000,533530]\n",
    "labels = [1,2,3,4,5,6,7,8,9,10,11,12,13,14,15,16,17,18]\n",
    "n_df[\"KM's driven_Range\"] = pd.cut(n_df[\"KM's driven\"], bins=bins, labels=labels)\n",
    "n_df.head()"
   ]
  },
  {
   "cell_type": "code",
   "execution_count": 149,
   "id": "117d07fe",
   "metadata": {},
   "outputs": [
    {
     "data": {
      "text/plain": [
       "Make                 0\n",
       "Model                0\n",
       "Year                 0\n",
       "KM's driven          0\n",
       "Price                0\n",
       "Fuel                 0\n",
       "Car documents        0\n",
       "Assembly             0\n",
       "Transmission         0\n",
       "Year_Range           0\n",
       "KM's driven_Range    0\n",
       "dtype: int64"
      ]
     },
     "execution_count": 149,
     "metadata": {},
     "output_type": "execute_result"
    }
   ],
   "source": [
    "n_df.isnull().sum()"
   ]
  },
  {
   "cell_type": "markdown",
   "id": "05c45ecc",
   "metadata": {},
   "source": [
    "#### 3. Create new columns data type from Category to Integer"
   ]
  },
  {
   "cell_type": "code",
   "execution_count": 159,
   "id": "c8ad9628",
   "metadata": {},
   "outputs": [],
   "source": [
    "cols = [\"Year_Range\",\"KM's driven_Range\"]\n",
    "for col in cols:\n",
    "    n_df[col] = n_df[col].astype(\"int32\")"
   ]
  },
  {
   "cell_type": "code",
   "execution_count": 160,
   "id": "d5e49ece",
   "metadata": {},
   "outputs": [
    {
     "data": {
      "text/html": [
       "<div>\n",
       "<style scoped>\n",
       "    .dataframe tbody tr th:only-of-type {\n",
       "        vertical-align: middle;\n",
       "    }\n",
       "\n",
       "    .dataframe tbody tr th {\n",
       "        vertical-align: top;\n",
       "    }\n",
       "\n",
       "    .dataframe thead th {\n",
       "        text-align: right;\n",
       "    }\n",
       "</style>\n",
       "<table border=\"1\" class=\"dataframe\">\n",
       "  <thead>\n",
       "    <tr style=\"text-align: right;\">\n",
       "      <th></th>\n",
       "      <th>Year</th>\n",
       "      <th>KM's driven</th>\n",
       "      <th>Price</th>\n",
       "      <th>Year_Range</th>\n",
       "      <th>KM's driven_Range</th>\n",
       "    </tr>\n",
       "  </thead>\n",
       "  <tbody>\n",
       "    <tr>\n",
       "      <th>Year</th>\n",
       "      <td>1.000000</td>\n",
       "      <td>-0.378985</td>\n",
       "      <td>0.680903</td>\n",
       "      <td>0.982744</td>\n",
       "      <td>-0.381022</td>\n",
       "    </tr>\n",
       "    <tr>\n",
       "      <th>KM's driven</th>\n",
       "      <td>-0.378985</td>\n",
       "      <td>1.000000</td>\n",
       "      <td>-0.186917</td>\n",
       "      <td>-0.378809</td>\n",
       "      <td>0.986599</td>\n",
       "    </tr>\n",
       "    <tr>\n",
       "      <th>Price</th>\n",
       "      <td>0.680903</td>\n",
       "      <td>-0.186917</td>\n",
       "      <td>1.000000</td>\n",
       "      <td>0.672904</td>\n",
       "      <td>-0.193626</td>\n",
       "    </tr>\n",
       "    <tr>\n",
       "      <th>Year_Range</th>\n",
       "      <td>0.982744</td>\n",
       "      <td>-0.378809</td>\n",
       "      <td>0.672904</td>\n",
       "      <td>1.000000</td>\n",
       "      <td>-0.380328</td>\n",
       "    </tr>\n",
       "    <tr>\n",
       "      <th>KM's driven_Range</th>\n",
       "      <td>-0.381022</td>\n",
       "      <td>0.986599</td>\n",
       "      <td>-0.193626</td>\n",
       "      <td>-0.380328</td>\n",
       "      <td>1.000000</td>\n",
       "    </tr>\n",
       "  </tbody>\n",
       "</table>\n",
       "</div>"
      ],
      "text/plain": [
       "                       Year  KM's driven     Price  Year_Range  \\\n",
       "Year               1.000000    -0.378985  0.680903    0.982744   \n",
       "KM's driven       -0.378985     1.000000 -0.186917   -0.378809   \n",
       "Price              0.680903    -0.186917  1.000000    0.672904   \n",
       "Year_Range         0.982744    -0.378809  0.672904    1.000000   \n",
       "KM's driven_Range -0.381022     0.986599 -0.193626   -0.380328   \n",
       "\n",
       "                   KM's driven_Range  \n",
       "Year                       -0.381022  \n",
       "KM's driven                 0.986599  \n",
       "Price                      -0.193626  \n",
       "Year_Range                 -0.380328  \n",
       "KM's driven_Range           1.000000  "
      ]
     },
     "execution_count": 160,
     "metadata": {},
     "output_type": "execute_result"
    }
   ],
   "source": [
    "# checking correlations of new column with Price column; it's better\n",
    "n_df.select_dtypes([\"int\",\"float\"]).corr()"
   ]
  },
  {
   "cell_type": "markdown",
   "id": "79a267ec",
   "metadata": {},
   "source": [
    "# Model Building"
   ]
  },
  {
   "cell_type": "code",
   "execution_count": 152,
   "id": "d9201b8f",
   "metadata": {},
   "outputs": [],
   "source": [
    "# import libraries\n",
    "from sklearn.model_selection import train_test_split\n",
    "from sklearn.preprocessing import OneHotEncoder, MinMaxScaler, QuantileTransformer\n",
    "from sklearn.compose import ColumnTransformer\n",
    "from sklearn.pipeline import Pipeline\n",
    "\n",
    "from sklearn.ensemble import RandomForestRegressor\n",
    "from sklearn.metrics import mean_absolute_error"
   ]
  },
  {
   "cell_type": "markdown",
   "id": "71847631",
   "metadata": {},
   "source": [
    "#### 1.Train Test Split"
   ]
  },
  {
   "cell_type": "code",
   "execution_count": 188,
   "id": "6471bcf8",
   "metadata": {},
   "outputs": [],
   "source": [
    "x = n_df.drop(\"Price\", axis=1)\n",
    "y = n_df[\"Price\"]\n",
    "\n",
    "x_train, x_test, y_train, y_test = train_test_split(x, y, test_size=0.15, random_state=42)"
   ]
  },
  {
   "cell_type": "code",
   "execution_count": 189,
   "id": "f83e204e",
   "metadata": {},
   "outputs": [
    {
     "name": "stdout",
     "output_type": "stream",
     "text": [
      "Shape of X_Train: (7616, 10)\n",
      "Shape of X_Test: (1344, 10)\n"
     ]
    }
   ],
   "source": [
    "print(f\"Shape of X_Train: {x_train.shape}\")\n",
    "print(f\"Shape of X_Test: {x_test.shape}\")"
   ]
  },
  {
   "cell_type": "code",
   "execution_count": 190,
   "id": "a1ab7ccb",
   "metadata": {},
   "outputs": [
    {
     "data": {
      "text/html": [
       "<div>\n",
       "<style scoped>\n",
       "    .dataframe tbody tr th:only-of-type {\n",
       "        vertical-align: middle;\n",
       "    }\n",
       "\n",
       "    .dataframe tbody tr th {\n",
       "        vertical-align: top;\n",
       "    }\n",
       "\n",
       "    .dataframe thead th {\n",
       "        text-align: right;\n",
       "    }\n",
       "</style>\n",
       "<table border=\"1\" class=\"dataframe\">\n",
       "  <thead>\n",
       "    <tr style=\"text-align: right;\">\n",
       "      <th></th>\n",
       "      <th>Make</th>\n",
       "      <th>Model</th>\n",
       "      <th>Year</th>\n",
       "      <th>KM's driven</th>\n",
       "      <th>Fuel</th>\n",
       "      <th>Car documents</th>\n",
       "      <th>Assembly</th>\n",
       "      <th>Transmission</th>\n",
       "      <th>Year_Range</th>\n",
       "      <th>KM's driven_Range</th>\n",
       "    </tr>\n",
       "  </thead>\n",
       "  <tbody>\n",
       "    <tr>\n",
       "      <th>252</th>\n",
       "      <td>Honda</td>\n",
       "      <td>City Aspire</td>\n",
       "      <td>2017</td>\n",
       "      <td>62000</td>\n",
       "      <td>Petrol</td>\n",
       "      <td>Original</td>\n",
       "      <td>Local</td>\n",
       "      <td>Manual</td>\n",
       "      <td>5</td>\n",
       "      <td>3</td>\n",
       "    </tr>\n",
       "    <tr>\n",
       "      <th>6546</th>\n",
       "      <td>Mitsubishi</td>\n",
       "      <td>Pajero Mini</td>\n",
       "      <td>2007</td>\n",
       "      <td>178000</td>\n",
       "      <td>Petrol</td>\n",
       "      <td>Original</td>\n",
       "      <td>Imported</td>\n",
       "      <td>Manual</td>\n",
       "      <td>2</td>\n",
       "      <td>6</td>\n",
       "    </tr>\n",
       "    <tr>\n",
       "      <th>9122</th>\n",
       "      <td>Toyota</td>\n",
       "      <td>Altis Grande</td>\n",
       "      <td>2015</td>\n",
       "      <td>76000</td>\n",
       "      <td>Petrol</td>\n",
       "      <td>Original</td>\n",
       "      <td>Local</td>\n",
       "      <td>Automatic</td>\n",
       "      <td>4</td>\n",
       "      <td>3</td>\n",
       "    </tr>\n",
       "    <tr>\n",
       "      <th>6119</th>\n",
       "      <td>Toyota</td>\n",
       "      <td>Corolla GLI</td>\n",
       "      <td>2018</td>\n",
       "      <td>58000</td>\n",
       "      <td>Petrol</td>\n",
       "      <td>Original</td>\n",
       "      <td>Local</td>\n",
       "      <td>Manual</td>\n",
       "      <td>5</td>\n",
       "      <td>2</td>\n",
       "    </tr>\n",
       "    <tr>\n",
       "      <th>6133</th>\n",
       "      <td>Daihatsu</td>\n",
       "      <td>Move</td>\n",
       "      <td>2020</td>\n",
       "      <td>42000</td>\n",
       "      <td>Petrol</td>\n",
       "      <td>Original</td>\n",
       "      <td>Imported</td>\n",
       "      <td>Automatic</td>\n",
       "      <td>5</td>\n",
       "      <td>2</td>\n",
       "    </tr>\n",
       "    <tr>\n",
       "      <th>...</th>\n",
       "      <td>...</td>\n",
       "      <td>...</td>\n",
       "      <td>...</td>\n",
       "      <td>...</td>\n",
       "      <td>...</td>\n",
       "      <td>...</td>\n",
       "      <td>...</td>\n",
       "      <td>...</td>\n",
       "      <td>...</td>\n",
       "      <td>...</td>\n",
       "    </tr>\n",
       "    <tr>\n",
       "      <th>5844</th>\n",
       "      <td>Honda</td>\n",
       "      <td>City Aspire</td>\n",
       "      <td>2016</td>\n",
       "      <td>47000</td>\n",
       "      <td>Petrol</td>\n",
       "      <td>Original</td>\n",
       "      <td>Local</td>\n",
       "      <td>Manual</td>\n",
       "      <td>4</td>\n",
       "      <td>2</td>\n",
       "    </tr>\n",
       "    <tr>\n",
       "      <th>5285</th>\n",
       "      <td>Honda</td>\n",
       "      <td>Civic Prosmetic</td>\n",
       "      <td>2007</td>\n",
       "      <td>42000</td>\n",
       "      <td>Petrol</td>\n",
       "      <td>Original</td>\n",
       "      <td>Local</td>\n",
       "      <td>Automatic</td>\n",
       "      <td>2</td>\n",
       "      <td>2</td>\n",
       "    </tr>\n",
       "    <tr>\n",
       "      <th>5490</th>\n",
       "      <td>Suzuki</td>\n",
       "      <td>Mehran VXR</td>\n",
       "      <td>2016</td>\n",
       "      <td>33000</td>\n",
       "      <td>Petrol</td>\n",
       "      <td>Original</td>\n",
       "      <td>Imported</td>\n",
       "      <td>Manual</td>\n",
       "      <td>4</td>\n",
       "      <td>2</td>\n",
       "    </tr>\n",
       "    <tr>\n",
       "      <th>862</th>\n",
       "      <td>Honda</td>\n",
       "      <td>City IVTEC</td>\n",
       "      <td>2007</td>\n",
       "      <td>246000</td>\n",
       "      <td>Petrol</td>\n",
       "      <td>Original</td>\n",
       "      <td>Local</td>\n",
       "      <td>Manual</td>\n",
       "      <td>2</td>\n",
       "      <td>10</td>\n",
       "    </tr>\n",
       "    <tr>\n",
       "      <th>7426</th>\n",
       "      <td>Toyota</td>\n",
       "      <td>Yaris</td>\n",
       "      <td>2022</td>\n",
       "      <td>41000</td>\n",
       "      <td>Petrol</td>\n",
       "      <td>Original</td>\n",
       "      <td>Local</td>\n",
       "      <td>Automatic</td>\n",
       "      <td>6</td>\n",
       "      <td>2</td>\n",
       "    </tr>\n",
       "  </tbody>\n",
       "</table>\n",
       "<p>7616 rows × 10 columns</p>\n",
       "</div>"
      ],
      "text/plain": [
       "            Make            Model  Year  KM's driven    Fuel Car documents  \\\n",
       "252        Honda      City Aspire  2017        62000  Petrol      Original   \n",
       "6546  Mitsubishi      Pajero Mini  2007       178000  Petrol      Original   \n",
       "9122      Toyota     Altis Grande  2015        76000  Petrol      Original   \n",
       "6119      Toyota      Corolla GLI  2018        58000  Petrol      Original   \n",
       "6133    Daihatsu             Move  2020        42000  Petrol      Original   \n",
       "...          ...              ...   ...          ...     ...           ...   \n",
       "5844       Honda      City Aspire  2016        47000  Petrol      Original   \n",
       "5285       Honda  Civic Prosmetic  2007        42000  Petrol      Original   \n",
       "5490      Suzuki       Mehran VXR  2016        33000  Petrol      Original   \n",
       "862        Honda       City IVTEC  2007       246000  Petrol      Original   \n",
       "7426      Toyota            Yaris  2022        41000  Petrol      Original   \n",
       "\n",
       "      Assembly Transmission  Year_Range  KM's driven_Range  \n",
       "252      Local       Manual           5                  3  \n",
       "6546  Imported       Manual           2                  6  \n",
       "9122     Local    Automatic           4                  3  \n",
       "6119     Local       Manual           5                  2  \n",
       "6133  Imported    Automatic           5                  2  \n",
       "...        ...          ...         ...                ...  \n",
       "5844     Local       Manual           4                  2  \n",
       "5285     Local    Automatic           2                  2  \n",
       "5490  Imported       Manual           4                  2  \n",
       "862      Local       Manual           2                 10  \n",
       "7426     Local    Automatic           6                  2  \n",
       "\n",
       "[7616 rows x 10 columns]"
      ]
     },
     "execution_count": 190,
     "metadata": {},
     "output_type": "execute_result"
    }
   ],
   "source": [
    "x_train"
   ]
  },
  {
   "cell_type": "code",
   "execution_count": 181,
   "id": "4e040d6b",
   "metadata": {},
   "outputs": [
    {
     "data": {
      "text/plain": [
       "252     3650000\n",
       "6546    1350000\n",
       "9122    4250000\n",
       "6119    4300000\n",
       "6133    3670000\n",
       "         ...   \n",
       "5844    2000000\n",
       "5285    2350000\n",
       "5490    1190000\n",
       "862     1780000\n",
       "7426    4700000\n",
       "Name: Price, Length: 7616, dtype: int64"
      ]
     },
     "execution_count": 181,
     "metadata": {},
     "output_type": "execute_result"
    }
   ],
   "source": [
    "y_train"
   ]
  },
  {
   "cell_type": "markdown",
   "id": "77a40521",
   "metadata": {},
   "source": [
    "#### 2. Create Column Transformers"
   ]
  },
  {
   "cell_type": "code",
   "execution_count": 191,
   "id": "89e50b70",
   "metadata": {},
   "outputs": [],
   "source": [
    "ct1 = ColumnTransformer(transformers=[\n",
    "    (\"oneHotEncoder\", OneHotEncoder(sparse_output=False, drop=\"first\"), [0,1,4,5,6,7])\n",
    "], remainder=\"passthrough\")\n",
    "\n",
    "ct2 = ColumnTransformer(transformers=[\n",
    "    (\"minMaxScaler\", MinMaxScaler(), [2,3,8,9])\n",
    "], remainder=\"passthrough\")\n",
    "\n",
    "ct3 = ColumnTransformer(transformers=[\n",
    "    (\"quantileTransformers\", QuantileTransformer(output_distribution=\"normal\"), slice(0,None))\n",
    "])\n",
    "\n",
    "ct4 = RandomForestRegressor()"
   ]
  },
  {
   "cell_type": "markdown",
   "id": "60f56e0a",
   "metadata": {},
   "source": [
    "#### 3. Create Pipeline"
   ]
  },
  {
   "cell_type": "code",
   "execution_count": 192,
   "id": "0da83dc1",
   "metadata": {},
   "outputs": [],
   "source": [
    "pipeline = Pipeline([\n",
    "    (\"first\", ct1),\n",
    "    (\"second\", ct2),\n",
    "    (\"third\", ct3),\n",
    "    (\"fourth\", ct4)\n",
    "])"
   ]
  },
  {
   "cell_type": "code",
   "execution_count": 193,
   "id": "7799639a",
   "metadata": {},
   "outputs": [
    {
     "name": "stdout",
     "output_type": "stream",
     "text": [
      "180392.91532777995\n"
     ]
    }
   ],
   "source": [
    "pipeline.fit(x_train, y_train)\n",
    "y_pred = pipeline.predict(x_test)\n",
    "# accuracy measure\n",
    "print(mean_absolute_error(y_pred, y_test))"
   ]
  },
  {
   "cell_type": "markdown",
   "id": "f91a780d",
   "metadata": {},
   "source": [
    "#### 4. Import model into Pickle"
   ]
  },
  {
   "cell_type": "code",
   "execution_count": 125,
   "id": "8df38bd9",
   "metadata": {},
   "outputs": [],
   "source": [
    "import pickle\n",
    "\n",
    "pickle.dump(pipeline, open(\"../Model/pipeline.pkl\", \"wb\"))\n",
    "pickle.dump(n_df, open(\"../Dataset/dataset.pkl\", \"wb\"))"
   ]
  },
  {
   "cell_type": "markdown",
   "id": "fba5fcfa",
   "metadata": {},
   "source": [
    "###### End of Code!"
   ]
  }
 ],
 "metadata": {
  "kernelspec": {
   "display_name": "Python 3 (ipykernel)",
   "language": "python",
   "name": "python3"
  },
  "language_info": {
   "codemirror_mode": {
    "name": "ipython",
    "version": 3
   },
   "file_extension": ".py",
   "mimetype": "text/x-python",
   "name": "python",
   "nbconvert_exporter": "python",
   "pygments_lexer": "ipython3",
   "version": "3.11.3"
  }
 },
 "nbformat": 4,
 "nbformat_minor": 5
}
